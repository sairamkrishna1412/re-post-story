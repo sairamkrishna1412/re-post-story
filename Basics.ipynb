{
 "cells": [
  {
   "cell_type": "markdown",
   "metadata": {},
   "source": [
    "# __Profitable app profiles for the app store and          google play markets__\n",
    "* ### introduction:\n",
    "* This project is about making data analysis on various apps on the app store and google play market to check on apps for ratings, downloads, genre, app size, etc.\n",
    "* our aim in this project is to find the type of free apps available on the app store and play store that attract users the most.\n"
   ]
  },
  {
   "cell_type": "code",
   "execution_count": 1,
   "metadata": {
    "collapsed": true
   },
   "outputs": [],
   "source": [
    "\n",
    "from csv import reader\n",
    "\n",
    "opened_file = open('googleplaystore.csv')\n",
    "read_file = reader(opened_file)\n",
    "android = list(read_file)\n",
    "android_header = android[0]\n",
    "android = android[1:]\n",
    "\n",
    "opened_file = open('AppleStore.csv')\n",
    "read_file = reader(opened_file)\n",
    "ios = list(read_file)\n",
    "ios_header = ios[0]\n",
    "ios = ios[1:]"
   ]
  },
  {
   "cell_type": "markdown",
   "metadata": {},
   "source": [
    "## creating a function for printing a data set and the number of rows in it\n",
    "* in the below cell we will be creating a function which will take 4 inputs.\n",
    "* they are dataset,start row, end row and a boolean type variable which is initiated as false.\n",
    "* The function will slice the data set into number of rows we mention in the function. The start row and the end row determine the number of rows we will be working on\n",
    "* It prints the number of rows we want and also gives information about the number of rows and coloumns in the data set if we wish to."
   ]
  },
  {
   "cell_type": "code",
   "execution_count": 2,
   "metadata": {
    "collapsed": true
   },
   "outputs": [],
   "source": [
    "def explore_data(dataset, start, end, rows_and_columns=False):\n",
    "    dataset_slice = dataset[start:end]    \n",
    "    for row in dataset_slice:\n",
    "        print(row)\n",
    "        print('\\n')\n",
    "        \n",
    "    if rows_and_columns:\n",
    "        print('Number of rows:', len(dataset))\n",
    "        print('Number of columns:', len(dataset[0]))"
   ]
  },
  {
   "cell_type": "markdown",
   "metadata": {},
   "source": [
    "* we have now created the function named explore data and now lets test it on the data set we are given\n",
    "* we will first print the first three rows of android, find the number of rows and coloumns and then use the same function for ios data set"
   ]
  },
  {
   "cell_type": "code",
   "execution_count": 3,
   "metadata": {
    "collapsed": false
   },
   "outputs": [
    {
     "name": "stdout",
     "output_type": "stream",
     "text": [
      "['App', 'Category', 'Rating', 'Reviews', 'Size', 'Installs', 'Type', 'Price', 'Content Rating', 'Genres', 'Last Updated', 'Current Ver', 'Android Ver']\n",
      "['Photo Editor & Candy Camera & Grid & ScrapBook', 'ART_AND_DESIGN', '4.1', '159', '19M', '10,000+', 'Free', '0', 'Everyone', 'Art & Design', 'January 7, 2018', '1.0.0', '4.0.3 and up']\n",
      "\n",
      "\n",
      "['Coloring book moana', 'ART_AND_DESIGN', '3.9', '967', '14M', '500,000+', 'Free', '0', 'Everyone', 'Art & Design;Pretend Play', 'January 15, 2018', '2.0.0', '4.0.3 and up']\n",
      "\n",
      "\n",
      "['U Launcher Lite – FREE Live Cool Themes, Hide Apps', 'ART_AND_DESIGN', '4.7', '87510', '8.7M', '5,000,000+', 'Free', '0', 'Everyone', 'Art & Design', 'August 1, 2018', '1.2.4', '4.0.3 and up']\n",
      "\n",
      "\n",
      "Number of rows: 10841\n",
      "Number of columns: 13\n"
     ]
    }
   ],
   "source": [
    "print(android_header)\n",
    "explore_data(android,0,3,True)"
   ]
  },
  {
   "cell_type": "code",
   "execution_count": 4,
   "metadata": {
    "collapsed": false
   },
   "outputs": [
    {
     "name": "stdout",
     "output_type": "stream",
     "text": [
      "['id', 'track_name', 'size_bytes', 'currency', 'price', 'rating_count_tot', 'rating_count_ver', 'user_rating', 'user_rating_ver', 'ver', 'cont_rating', 'prime_genre', 'sup_devices.num', 'ipadSc_urls.num', 'lang.num', 'vpp_lic']\n",
      "['284882215', 'Facebook', '389879808', 'USD', '0.0', '2974676', '212', '3.5', '3.5', '95.0', '4+', 'Social Networking', '37', '1', '29', '1']\n",
      "\n",
      "\n",
      "['389801252', 'Instagram', '113954816', 'USD', '0.0', '2161558', '1289', '4.5', '4.0', '10.23', '12+', 'Photo & Video', '37', '0', '29', '1']\n",
      "\n",
      "\n",
      "['529479190', 'Clash of Clans', '116476928', 'USD', '0.0', '2130805', '579', '4.5', '4.5', '9.24.12', '9+', 'Games', '38', '5', '18', '1']\n",
      "\n",
      "\n",
      "Number of rows: 7197\n",
      "Number of columns: 16\n"
     ]
    }
   ],
   "source": [
    "print(ios_header)\n",
    "explore_data(ios,0,3,True)"
   ]
  },
  {
   "cell_type": "markdown",
   "metadata": {},
   "source": [
    "### deleting apps with errors:\n",
    "* if we observe the 10472 row of android , we can see that the category coloumn of that row is missing and all the coloumns after that are shifted by one place to the left. so there is change in the order of information about the app named 'Life Made WI-Fi Touchscreen Photo Frame'.\n",
    "* we delete the app because this causes an error when we perform operations with the google play data set\n",
    "* obseve that after deleting the row the lenght of the android list reduces by one i.e it changes from 10841 to 10840. also the row changes.make sure that you dont run the del code line more than once because it might lead to deleting more than one row."
   ]
  },
  {
   "cell_type": "code",
   "execution_count": 5,
   "metadata": {
    "collapsed": false,
    "scrolled": false
   },
   "outputs": [
    {
     "name": "stdout",
     "output_type": "stream",
     "text": [
      "App, Category, Rating, Reviews, Size, Installs, Type, Price, Content Rating, Genres, Last Updated, Current Ver, Android Ver, ['Text on Photo - Fonteee', 'ART_AND_DESIGN', '4.4', '13880', '28M', '1,000,000+', 'Free', '0', 'Everyone', 'Art & Design', 'October 27, 2017', '1.0.4', '4.1 and up']\n",
      "10841\n",
      "['Life Made WI-Fi Touchscreen Photo Frame', '1.9', '19', '3.0M', '1,000+', 'Free', '0', 'Everyone', '', 'February 11, 2018', '1.0.19', '4.0 and up']\n",
      "10840\n",
      "['osmino Wi-Fi: free WiFi', 'TOOLS', '4.2', '134203', '4.1M', '10,000,000+', 'Free', '0', 'Everyone', 'Tools', 'August 7, 2018', '6.06.14', '4.4 and up']\n"
     ]
    }
   ],
   "source": [
    "for i in android_header:\n",
    "    print(i,end=', ')\n",
    "print(android[10])\n",
    "print(len(android))\n",
    "print(android[10472])\n",
    "del android[10472]\n",
    "print(len(android))\n",
    "print(android[10472])"
   ]
  },
  {
   "cell_type": "code",
   "execution_count": 6,
   "metadata": {
    "collapsed": false,
    "scrolled": false
   },
   "outputs": [
    {
     "name": "stdout",
     "output_type": "stream",
     "text": [
      "id, track_name, size_bytes, currency, price, rating_count_tot, rating_count_ver, user_rating, user_rating_ver, ver, cont_rating, prime_genre, sup_devices.num, ipadSc_urls.num, lang.num, vpp_lic, "
     ]
    }
   ],
   "source": [
    "for j in ios_header:\n",
    "    print(j,end=', ')"
   ]
  },
  {
   "cell_type": "markdown",
   "metadata": {},
   "source": [
    "* if you are having trouble understanding what a column describes visit [documentation](https://www.kaggle.com/ramamet4/app-store-apple-data-set-10k-apps/home)"
   ]
  },
  {
   "cell_type": "markdown",
   "metadata": {},
   "source": [
    "### Collecting duplicates into a list :\n",
    "* Here we will be creating 2 lists named unique and duplicate\n",
    "* we looped through the android data set and segregated it into unique apps and duplicate apps \n",
    "* In unique apps we have each app occuring just once and in duplicate apps we have all the apps which occur more than once while we loop thorough the data set\n",
    "* we wont be removing duplicates randomly. we will keep the apps which have most reviews and remove rest of the duplicates. this is done because the app with most number of reviews is the most recent and updated data of the app"
   ]
  },
  {
   "cell_type": "code",
   "execution_count": 7,
   "metadata": {
    "collapsed": false,
    "scrolled": true
   },
   "outputs": [
    {
     "name": "stdout",
     "output_type": "stream",
     "text": [
      "1181\n",
      "['Quick PDF Scanner + OCR FREE', 'Box', 'Google My Business', 'ZOOM Cloud Meetings', 'join.me - Simple Meetings']\n"
     ]
    }
   ],
   "source": [
    "duplicate=[]\n",
    "unique=[]\n",
    "for i in android:\n",
    "    name=i[0]\n",
    "    if name in unique:\n",
    "        duplicate.append(name)\n",
    "    else:\n",
    "        unique.append(name)\n",
    "print(len(duplicate))\n",
    "print(duplicate[0:5])"
   ]
  },
  {
   "cell_type": "code",
   "execution_count": 8,
   "metadata": {
    "collapsed": false,
    "scrolled": true
   },
   "outputs": [
    {
     "name": "stdout",
     "output_type": "stream",
     "text": [
      "9659\n"
     ]
    }
   ],
   "source": [
    "reviews_max = {}\n",
    "\n",
    "for app in android:\n",
    "    name = app[0]\n",
    "    n_reviews = float(app[3])\n",
    "    \n",
    "    if name in reviews_max and reviews_max[name] < n_reviews:\n",
    "        reviews_max[name] = n_reviews\n",
    "        \n",
    "    elif name not in reviews_max:\n",
    "        reviews_max[name] = n_reviews\n",
    "print(len(reviews_max))"
   ]
  },
  {
   "cell_type": "markdown",
   "metadata": {},
   "source": [
    "## cleaning data set\n",
    "* in the below code cell we cleaned the google play data set which is stored by the name android \n",
    "* we first two lists named android_clean and alredy_added.\n",
    "* the android_clean consists of all the apps with maximum reviews and with no duplicates\n",
    "* the already_clean list keeps a record of the apps that we already added\n",
    "* we looped through android list and saved the name of the apps in a variable called name and reviews in a variable called n_reviews.\n",
    "* we then checked if n_reviews is the same as the number of maximum reviews of the app name (the number can be found in the reviews_max dictionary) and name is not already in the list already_added. if the statement satisfies then:\n",
    "1. Append the entire row to the android_clean list (which will eventually be a list of list and store our cleaned data set).\n",
    "2. Append the name of the app name to the already_added list — this helps us to keep track of apps that we already added.\n",
    "* and finally we checked the length of the android_clean list"
   ]
  },
  {
   "cell_type": "code",
   "execution_count": 9,
   "metadata": {
    "collapsed": false,
    "scrolled": true
   },
   "outputs": [
    {
     "name": "stdout",
     "output_type": "stream",
     "text": [
      "9659\n"
     ]
    }
   ],
   "source": [
    "android_clean=[]\n",
    "already_added=[]\n",
    "for app in android:\n",
    "    name=app[0]\n",
    "    n_reviews=float(app[3])\n",
    "    if n_reviews==reviews_max[name] and name not in already_added:\n",
    "        android_clean.append(app)\n",
    "        already_added.append(name)\n",
    "print(len(android_clean))"
   ]
  },
  {
   "cell_type": "markdown",
   "metadata": {},
   "source": [
    "## function for english apps\n",
    "* The code cell below we created a function called eng which takes in a string and returns false if number of non english terms in the name of the app is more than three and true if less than three."
   ]
  },
  {
   "cell_type": "code",
   "execution_count": 10,
   "metadata": {
    "collapsed": false
   },
   "outputs": [],
   "source": [
    "def eng(string):\n",
    "    c=0\n",
    "    for i in string:\n",
    "        if ord(i)>127:\n",
    "            c+=1\n",
    "    if c>3:\n",
    "        return False\n",
    "    else:\n",
    "        return True"
   ]
  },
  {
   "cell_type": "markdown",
   "metadata": {},
   "source": [
    "* we will now collect all the english apps in a list called android_eng and ios_eng respectively"
   ]
  },
  {
   "cell_type": "code",
   "execution_count": 11,
   "metadata": {
    "collapsed": false
   },
   "outputs": [],
   "source": [
    "android_eng=[]\n",
    "ios_eng=[]\n",
    "for j in android_clean:\n",
    "    name=j[0]\n",
    "    if eng(name):\n",
    "        android_eng.append(j)\n",
    "for k in ios:\n",
    "    name=k[1]\n",
    "    if eng(name):\n",
    "        ios_eng.append(k)"
   ]
  },
  {
   "cell_type": "code",
   "execution_count": 12,
   "metadata": {
    "collapsed": false
   },
   "outputs": [
    {
     "name": "stdout",
     "output_type": "stream",
     "text": [
      "['Photo Editor & Candy Camera & Grid & ScrapBook', 'ART_AND_DESIGN', '4.1', '159', '19M', '10,000+', 'Free', '0', 'Everyone', 'Art & Design', 'January 7, 2018', '1.0.0', '4.0.3 and up']\n",
      "\n",
      "\n",
      "['U Launcher Lite – FREE Live Cool Themes, Hide Apps', 'ART_AND_DESIGN', '4.7', '87510', '8.7M', '5,000,000+', 'Free', '0', 'Everyone', 'Art & Design', 'August 1, 2018', '1.2.4', '4.0.3 and up']\n",
      "\n",
      "\n",
      "['Sketch - Draw & Paint', 'ART_AND_DESIGN', '4.5', '215644', '25M', '50,000,000+', 'Free', '0', 'Teen', 'Art & Design', 'June 8, 2018', 'Varies with device', '4.2 and up']\n",
      "\n",
      "\n",
      "Number of rows: 9614\n",
      "Number of columns: 13\n",
      "['284882215', 'Facebook', '389879808', 'USD', '0.0', '2974676', '212', '3.5', '3.5', '95.0', '4+', 'Social Networking', '37', '1', '29', '1']\n",
      "\n",
      "\n",
      "['389801252', 'Instagram', '113954816', 'USD', '0.0', '2161558', '1289', '4.5', '4.0', '10.23', '12+', 'Photo & Video', '37', '0', '29', '1']\n",
      "\n",
      "\n",
      "['529479190', 'Clash of Clans', '116476928', 'USD', '0.0', '2130805', '579', '4.5', '4.5', '9.24.12', '9+', 'Games', '38', '5', '18', '1']\n",
      "\n",
      "\n",
      "Number of rows: 6183\n",
      "Number of columns: 16\n"
     ]
    }
   ],
   "source": [
    "explore_data(android_eng,0,3,True)\n",
    "explore_data(ios_eng,0,3,True)"
   ]
  },
  {
   "cell_type": "markdown",
   "metadata": {},
   "source": [
    "## collecting all english and free apps:\n",
    "* we will now store all the free english apps into two lists android_final for google play data set and ios_final for ios app store."
   ]
  },
  {
   "cell_type": "code",
   "execution_count": 13,
   "metadata": {
    "collapsed": false
   },
   "outputs": [
    {
     "name": "stdout",
     "output_type": "stream",
     "text": [
      "['Photo Editor & Candy Camera & Grid & ScrapBook', 'ART_AND_DESIGN', '4.1', '159', '19M', '10,000+', 'Free', '0', 'Everyone', 'Art & Design', 'January 7, 2018', '1.0.0', '4.0.3 and up']\n",
      "\n",
      "\n",
      "['U Launcher Lite – FREE Live Cool Themes, Hide Apps', 'ART_AND_DESIGN', '4.7', '87510', '8.7M', '5,000,000+', 'Free', '0', 'Everyone', 'Art & Design', 'August 1, 2018', '1.2.4', '4.0.3 and up']\n",
      "\n",
      "\n",
      "['Sketch - Draw & Paint', 'ART_AND_DESIGN', '4.5', '215644', '25M', '50,000,000+', 'Free', '0', 'Teen', 'Art & Design', 'June 8, 2018', 'Varies with device', '4.2 and up']\n",
      "\n",
      "\n",
      "Number of rows: 8864\n",
      "Number of columns: 13\n",
      "['284882215', 'Facebook', '389879808', 'USD', '0.0', '2974676', '212', '3.5', '3.5', '95.0', '4+', 'Social Networking', '37', '1', '29', '1']\n",
      "\n",
      "\n",
      "['389801252', 'Instagram', '113954816', 'USD', '0.0', '2161558', '1289', '4.5', '4.0', '10.23', '12+', 'Photo & Video', '37', '0', '29', '1']\n",
      "\n",
      "\n",
      "['529479190', 'Clash of Clans', '116476928', 'USD', '0.0', '2130805', '579', '4.5', '4.5', '9.24.12', '9+', 'Games', '38', '5', '18', '1']\n",
      "\n",
      "\n",
      "Number of rows: 3222\n",
      "Number of columns: 16\n"
     ]
    }
   ],
   "source": [
    "android_final=[]\n",
    "ios_final=[]\n",
    "for i in android_eng:\n",
    "    price=i[7]\n",
    "    if price=='0':\n",
    "        android_final.append(i)\n",
    "for j in ios_eng:\n",
    "    price=j[4]\n",
    "    if price=='0.0':\n",
    "        ios_final.append(j)\n",
    "explore_data(android_final,0,3,True)\n",
    "explore_data(ios_final,0,3,True)"
   ]
  },
  {
   "cell_type": "markdown",
   "metadata": {},
   "source": [
    "## frequency table"
   ]
  },
  {
   "cell_type": "code",
   "execution_count": 14,
   "metadata": {
    "collapsed": true
   },
   "outputs": [],
   "source": [
    "def freq_table(dataset,index):\n",
    "    table={}\n",
    "    total=0\n",
    "    for i in dataset:\n",
    "        total+=1\n",
    "        value=i[index]\n",
    "        if value in table:\n",
    "            table[value]+=1\n",
    "        else:\n",
    "            table[value]=1\n",
    "    table_p={}\n",
    "    for key in table:\n",
    "        percentage=(table[key]/total)*100\n",
    "        table_p[key]=percentage\n",
    "    return table_p\n",
    "def disp_table(dataset,index):\n",
    "    table=freq_table(dataset,index)\n",
    "    table_display=[]\n",
    "    for key in table:\n",
    "        key_val_tuple=(table[key],key)\n",
    "        table_display.append(key_val_tuple)\n",
    "    table_sorted=sorted(table_display,reverse=True)\n",
    "    for i in table_sorted:\n",
    "        print(i[1],' : ',i[0])\n",
    "        "
   ]
  },
  {
   "cell_type": "markdown",
   "metadata": {},
   "source": [
    "* using the disp_table function for the prime_genre coloumn of the app store."
   ]
  },
  {
   "cell_type": "code",
   "execution_count": 15,
   "metadata": {
    "collapsed": false,
    "scrolled": false
   },
   "outputs": [
    {
     "name": "stdout",
     "output_type": "stream",
     "text": [
      "Games  :  58.16263190564867\n",
      "Entertainment  :  7.883302296710118\n",
      "Photo & Video  :  4.9658597144630665\n",
      "Education  :  3.662321539416512\n",
      "Social Networking  :  3.2898820608317814\n",
      "Shopping  :  2.60707635009311\n",
      "Utilities  :  2.5139664804469275\n",
      "Sports  :  2.1415270018621975\n",
      "Music  :  2.0484171322160147\n",
      "Health & Fitness  :  2.0173805090006205\n",
      "Productivity  :  1.7380509000620732\n",
      "Lifestyle  :  1.5828677839851024\n",
      "News  :  1.3345747982619491\n",
      "Travel  :  1.2414649286157666\n",
      "Finance  :  1.1173184357541899\n",
      "Weather  :  0.8690254500310366\n",
      "Food & Drink  :  0.8069522036002483\n",
      "Reference  :  0.5586592178770949\n",
      "Business  :  0.5276225946617008\n",
      "Book  :  0.4345127250155183\n",
      "Navigation  :  0.186219739292365\n",
      "Medical  :  0.186219739292365\n",
      "Catalogs  :  0.12414649286157665\n"
     ]
    }
   ],
   "source": [
    "disp_table(ios_final,-5)"
   ]
  },
  {
   "cell_type": "markdown",
   "metadata": {},
   "source": [
    "* we have used the  function for the ios dataset for the prime_genre coloumn and we found that the free english apps consist mainly of gaming applications(58.16 %) .The gaming apps consist of more than half of free english apps.\n",
    "* following games we have entertainment genre which consists of 7.88 % of the free english apps for the app store data set\n",
    "* and then we have photo & Video(4.96%), Education(3.66%) and social networking(3.28%)\n",
    "* however we observe that entertainment apps(Games,Entertainment,Photo & Video,Social Networking,Music,Sports, etc) are more developed by the app developers than other apps for education,shopping, utilities, productivity, lifestyle, etc.\n",
    "* this analysis is not for the whole app store dataset but for the free english apps.\n",
    "* however we should keep in mind that fun apps built more by developers that doesnt mean they are most used ones."
   ]
  },
  {
   "cell_type": "code",
   "execution_count": 16,
   "metadata": {
    "collapsed": false,
    "scrolled": false
   },
   "outputs": [
    {
     "name": "stdout",
     "output_type": "stream",
     "text": [
      "FAMILY  :  18.907942238267147\n",
      "GAME  :  9.724729241877256\n",
      "TOOLS  :  8.461191335740072\n",
      "BUSINESS  :  4.591606498194946\n",
      "LIFESTYLE  :  3.9034296028880866\n",
      "PRODUCTIVITY  :  3.892148014440433\n",
      "FINANCE  :  3.7003610108303246\n",
      "MEDICAL  :  3.531137184115524\n",
      "SPORTS  :  3.395758122743682\n",
      "PERSONALIZATION  :  3.3167870036101084\n",
      "COMMUNICATION  :  3.2378158844765346\n",
      "HEALTH_AND_FITNESS  :  3.0798736462093865\n",
      "PHOTOGRAPHY  :  2.944494584837545\n",
      "NEWS_AND_MAGAZINES  :  2.7978339350180503\n",
      "SOCIAL  :  2.6624548736462095\n",
      "TRAVEL_AND_LOCAL  :  2.33528880866426\n",
      "SHOPPING  :  2.2450361010830324\n",
      "BOOKS_AND_REFERENCE  :  2.1435018050541514\n",
      "DATING  :  1.861462093862816\n",
      "VIDEO_PLAYERS  :  1.7937725631768955\n",
      "MAPS_AND_NAVIGATION  :  1.3989169675090252\n",
      "FOOD_AND_DRINK  :  1.2409747292418771\n",
      "EDUCATION  :  1.1620036101083033\n",
      "ENTERTAINMENT  :  0.9589350180505415\n",
      "LIBRARIES_AND_DEMO  :  0.9363718411552346\n",
      "AUTO_AND_VEHICLES  :  0.9250902527075812\n",
      "HOUSE_AND_HOME  :  0.8235559566787004\n",
      "WEATHER  :  0.8009927797833934\n",
      "EVENTS  :  0.7107400722021661\n",
      "PARENTING  :  0.6543321299638989\n",
      "ART_AND_DESIGN  :  0.6430505415162455\n",
      "COMICS  :  0.6204873646209386\n",
      "BEAUTY  :  0.5979241877256317\n"
     ]
    }
   ],
   "source": [
    "disp_table(android_final,1) # category"
   ]
  },
  {
   "cell_type": "markdown",
   "metadata": {},
   "source": [
    "* if we take a look at the googple play dataset we observe that the frequency table of category is quite different from that of app store.\n",
    "* There are more apps for practical use(family, tools, business, lifestyle, productivity, etc.) compared to app store.\n",
    "* even in google play dataset we find that fun apps are more than the practical purpose apps.Family category takes up 18.907% but it is less compared to ios app store.\n",
    "* hence we can say that practical apps are less than the fun aps in both app sotre and google play but the practical apps are more represented in gooogle play than in apps store ."
   ]
  },
  {
   "cell_type": "code",
   "execution_count": 17,
   "metadata": {
    "collapsed": false,
    "scrolled": false
   },
   "outputs": [
    {
     "name": "stdout",
     "output_type": "stream",
     "text": [
      "Tools  :  8.449909747292418\n",
      "Entertainment  :  6.069494584837545\n",
      "Education  :  5.347472924187725\n",
      "Business  :  4.591606498194946\n",
      "Productivity  :  3.892148014440433\n",
      "Lifestyle  :  3.892148014440433\n",
      "Finance  :  3.7003610108303246\n",
      "Medical  :  3.531137184115524\n",
      "Sports  :  3.463447653429603\n",
      "Personalization  :  3.3167870036101084\n",
      "Communication  :  3.2378158844765346\n",
      "Action  :  3.1024368231046933\n",
      "Health & Fitness  :  3.0798736462093865\n",
      "Photography  :  2.944494584837545\n",
      "News & Magazines  :  2.7978339350180503\n",
      "Social  :  2.6624548736462095\n",
      "Travel & Local  :  2.3240072202166067\n",
      "Shopping  :  2.2450361010830324\n",
      "Books & Reference  :  2.1435018050541514\n",
      "Simulation  :  2.0419675090252705\n",
      "Dating  :  1.861462093862816\n",
      "Arcade  :  1.8501805054151623\n",
      "Video Players & Editors  :  1.7712093862815883\n",
      "Casual  :  1.7599277978339352\n",
      "Maps & Navigation  :  1.3989169675090252\n",
      "Food & Drink  :  1.2409747292418771\n",
      "Puzzle  :  1.128158844765343\n",
      "Racing  :  0.9927797833935018\n",
      "Role Playing  :  0.9363718411552346\n",
      "Libraries & Demo  :  0.9363718411552346\n",
      "Auto & Vehicles  :  0.9250902527075812\n",
      "Strategy  :  0.9138086642599278\n",
      "House & Home  :  0.8235559566787004\n",
      "Weather  :  0.8009927797833934\n",
      "Events  :  0.7107400722021661\n",
      "Adventure  :  0.6768953068592057\n",
      "Comics  :  0.6092057761732852\n",
      "Beauty  :  0.5979241877256317\n",
      "Art & Design  :  0.5979241877256317\n",
      "Parenting  :  0.4963898916967509\n",
      "Card  :  0.45126353790613716\n",
      "Casino  :  0.42870036101083037\n",
      "Trivia  :  0.41741877256317694\n",
      "Educational;Education  :  0.39485559566787\n",
      "Board  :  0.3835740072202166\n",
      "Educational  :  0.3722924187725632\n",
      "Education;Education  :  0.33844765342960287\n",
      "Word  :  0.2594765342960289\n",
      "Casual;Pretend Play  :  0.236913357400722\n",
      "Music  :  0.2030685920577617\n",
      "Racing;Action & Adventure  :  0.16922382671480143\n",
      "Puzzle;Brain Games  :  0.16922382671480143\n",
      "Entertainment;Music & Video  :  0.16922382671480143\n",
      "Casual;Brain Games  :  0.13537906137184114\n",
      "Casual;Action & Adventure  :  0.13537906137184114\n",
      "Arcade;Action & Adventure  :  0.12409747292418773\n",
      "Action;Action & Adventure  :  0.10153429602888085\n",
      "Educational;Pretend Play  :  0.09025270758122744\n",
      "Simulation;Action & Adventure  :  0.078971119133574\n",
      "Parenting;Education  :  0.078971119133574\n",
      "Entertainment;Brain Games  :  0.078971119133574\n",
      "Board;Brain Games  :  0.078971119133574\n",
      "Parenting;Music & Video  :  0.06768953068592057\n",
      "Educational;Brain Games  :  0.06768953068592057\n",
      "Casual;Creativity  :  0.06768953068592057\n",
      "Art & Design;Creativity  :  0.06768953068592057\n",
      "Education;Pretend Play  :  0.056407942238267145\n",
      "Role Playing;Pretend Play  :  0.04512635379061372\n",
      "Education;Creativity  :  0.04512635379061372\n",
      "Role Playing;Action & Adventure  :  0.033844765342960284\n",
      "Puzzle;Action & Adventure  :  0.033844765342960284\n",
      "Entertainment;Creativity  :  0.033844765342960284\n",
      "Entertainment;Action & Adventure  :  0.033844765342960284\n",
      "Educational;Creativity  :  0.033844765342960284\n",
      "Educational;Action & Adventure  :  0.033844765342960284\n",
      "Education;Music & Video  :  0.033844765342960284\n",
      "Education;Brain Games  :  0.033844765342960284\n",
      "Education;Action & Adventure  :  0.033844765342960284\n",
      "Adventure;Action & Adventure  :  0.033844765342960284\n",
      "Video Players & Editors;Music & Video  :  0.02256317689530686\n",
      "Sports;Action & Adventure  :  0.02256317689530686\n",
      "Simulation;Pretend Play  :  0.02256317689530686\n",
      "Puzzle;Creativity  :  0.02256317689530686\n",
      "Music;Music & Video  :  0.02256317689530686\n",
      "Entertainment;Pretend Play  :  0.02256317689530686\n",
      "Casual;Education  :  0.02256317689530686\n",
      "Board;Action & Adventure  :  0.02256317689530686\n",
      "Video Players & Editors;Creativity  :  0.01128158844765343\n",
      "Trivia;Education  :  0.01128158844765343\n",
      "Travel & Local;Action & Adventure  :  0.01128158844765343\n",
      "Tools;Education  :  0.01128158844765343\n",
      "Strategy;Education  :  0.01128158844765343\n",
      "Strategy;Creativity  :  0.01128158844765343\n",
      "Strategy;Action & Adventure  :  0.01128158844765343\n",
      "Simulation;Education  :  0.01128158844765343\n",
      "Role Playing;Brain Games  :  0.01128158844765343\n",
      "Racing;Pretend Play  :  0.01128158844765343\n",
      "Puzzle;Education  :  0.01128158844765343\n",
      "Parenting;Brain Games  :  0.01128158844765343\n",
      "Music & Audio;Music & Video  :  0.01128158844765343\n",
      "Lifestyle;Pretend Play  :  0.01128158844765343\n",
      "Lifestyle;Education  :  0.01128158844765343\n",
      "Health & Fitness;Education  :  0.01128158844765343\n",
      "Health & Fitness;Action & Adventure  :  0.01128158844765343\n",
      "Entertainment;Education  :  0.01128158844765343\n",
      "Communication;Creativity  :  0.01128158844765343\n",
      "Comics;Creativity  :  0.01128158844765343\n",
      "Casual;Music & Video  :  0.01128158844765343\n",
      "Card;Action & Adventure  :  0.01128158844765343\n",
      "Books & Reference;Education  :  0.01128158844765343\n",
      "Art & Design;Pretend Play  :  0.01128158844765343\n",
      "Art & Design;Action & Adventure  :  0.01128158844765343\n",
      "Arcade;Pretend Play  :  0.01128158844765343\n",
      "Adventure;Education  :  0.01128158844765343\n"
     ]
    }
   ],
   "source": [
    "disp_table(android_final,-4) #genre"
   ]
  },
  {
   "cell_type": "markdown",
   "metadata": {},
   "source": [
    "* The difference between the Genres and the Category columns is not crystal clear, but one thing we can notice is that the Genres column is much more granular (it has more categories). We're only looking for the bigger picture at the moment, so we'll only work with the Category column moving forward.\n",
    "\n",
    "* Up to this point, we found that the App Store is dominated by apps designed for fun, while Google Play shows a more balanced landscape of both practical and for-fun apps. Now we'd like to get an idea about the kind of apps that have most users."
   ]
  },
  {
   "cell_type": "markdown",
   "metadata": {},
   "source": [
    "# most popular apps on app store\n",
    "* To find the most popular app on the app store we will need to find the apps \n",
    " with most installs. we have a coloumn in google play data set but there is  \n",
    " no such coloumn in app store. as an alternative we will take number of user rating for finding popular apps in ios data set\n",
    "* first we store the frequency table of ios data set in genres_ios variable for the genres coloumn.then we will loop through frequency table and if genre_app is equal to genre we will save the rating into a variable named no_rating and also incremment the length value by one.to find the average rating we need to total rating by length of genre. and then finally print the genre and its coressponding average rating."
   ]
  },
  {
   "cell_type": "code",
   "execution_count": 18,
   "metadata": {
    "collapsed": false
   },
   "outputs": [
    {
     "name": "stdout",
     "output_type": "stream",
     "text": [
      "News : 21248.023255813954\n",
      "Catalogs : 4004.0\n",
      "Reference : 74942.11111111111\n",
      "Social Networking : 71548.34905660378\n",
      "Lifestyle : 16485.764705882353\n",
      "Weather : 52279.892857142855\n",
      "Utilities : 18684.456790123455\n",
      "Medical : 612.0\n",
      "Finance : 31467.944444444445\n",
      "Travel : 28243.8\n",
      "Shopping : 26919.690476190477\n",
      "Food & Drink : 33333.92307692308\n",
      "Productivity : 21028.410714285714\n",
      "Book : 39758.5\n",
      "Photo & Video : 28441.54375\n",
      "Navigation : 86090.33333333333\n",
      "Entertainment : 14029.830708661417\n",
      "Sports : 23008.898550724636\n",
      "Education : 7003.983050847458\n",
      "Games : 22788.6696905016\n",
      "Health & Fitness : 23298.015384615384\n",
      "Music : 57326.530303030304\n",
      "Business : 7491.117647058823\n"
     ]
    }
   ],
   "source": [
    "genres_ios=freq_table(ios_final,-5)\n",
    "for genre in  genres_ios:\n",
    "    total_r=0\n",
    "    len_genre=0\n",
    "    for i in ios_final:\n",
    "        genre_app=i[-5]\n",
    "        if genre_app==genre:\n",
    "            no_rating=float(i[5])\n",
    "            total_r+=no_rating\n",
    "            len_genre+=1\n",
    "    avg_rating_ios=(total_r/len_genre)\n",
    "    print(genre, ':' ,avg_rating_ios)"
   ]
  },
  {
   "cell_type": "markdown",
   "metadata": {},
   "source": [
    "* looking at the above average rating we can see that social networking has a huge average rating. but if we look at user ratings of each app we can see that facebook, instagram, whatsapp messenger take up more than 70% of the user ratings for that genre. same with music apps,reference apps,navigaton apps."
   ]
  },
  {
   "cell_type": "code",
   "execution_count": 19,
   "metadata": {
    "collapsed": false
   },
   "outputs": [
    {
     "name": "stdout",
     "output_type": "stream",
     "text": [
      "Facebook  :  2974676\n",
      "Pinterest  :  1061624\n",
      "Skype for iPhone  :  373519\n",
      "Messenger  :  351466\n",
      "Tumblr  :  334293\n",
      "WhatsApp Messenger  :  287589\n",
      "Kik  :  260965\n",
      "ooVoo – Free Video Call, Text and Voice  :  177501\n",
      "TextNow - Unlimited Text + Calls  :  164963\n",
      "Viber Messenger – Text & Call  :  164249\n",
      "Followers - Social Analytics For Instagram  :  112778\n",
      "MeetMe - Chat and Meet New People  :  97072\n",
      "We Heart It - Fashion, wallpapers, quotes, tattoos  :  90414\n",
      "InsTrack for Instagram - Analytics Plus More  :  85535\n",
      "Tango - Free Video Call, Voice and Chat  :  75412\n",
      "LinkedIn  :  71856\n",
      "Match™ - #1 Dating App.  :  60659\n",
      "Skype for iPad  :  60163\n",
      "POF - Best Dating App for Conversations  :  52642\n",
      "Timehop  :  49510\n",
      "Find My Family, Friends & iPhone - Life360 Locator  :  43877\n",
      "Whisper - Share, Express, Meet  :  39819\n",
      "Hangouts  :  36404\n",
      "LINE PLAY - Your Avatar World  :  34677\n",
      "WeChat  :  34584\n",
      "Badoo - Meet New People, Chat, Socialize.  :  34428\n",
      "Followers + for Instagram - Follower Analytics  :  28633\n",
      "GroupMe  :  28260\n",
      "Marco Polo Video Walkie Talkie  :  27662\n",
      "Miitomo  :  23965\n",
      "SimSimi  :  23530\n",
      "Grindr - Gay and same sex guys chat, meet and date  :  23201\n",
      "Wishbone - Compare Anything  :  20649\n",
      "imo video calls and chat  :  18841\n",
      "After School - Funny Anonymous School News  :  18482\n",
      "Quick Reposter - Repost, Regram and Reshare Photos  :  17694\n",
      "Weibo HD  :  16772\n",
      "Repost for Instagram  :  15185\n",
      "Live.me – Live Video Chat & Make Friends Nearby  :  14724\n",
      "Nextdoor  :  14402\n",
      "Followers Analytics for Instagram - InstaReport  :  13914\n",
      "YouNow: Live Stream Video Chat  :  12079\n",
      "FollowMeter for Instagram - Followers Tracking  :  11976\n",
      "LINE  :  11437\n",
      "eHarmony™ Dating App - Meet Singles  :  11124\n",
      "Discord - Chat for Gamers  :  9152\n",
      "QQ  :  9109\n",
      "Telegram Messenger  :  7573\n",
      "Weibo  :  7265\n",
      "Periscope - Live Video Streaming Around the World  :  6062\n",
      "Chat for Whatsapp - iPad Version  :  5060\n",
      "QQ HD  :  5058\n",
      "Followers Analysis Tool For Instagram App Free  :  4253\n",
      "live.ly - live video streaming  :  4145\n",
      "Houseparty - Group Video Chat  :  3991\n",
      "SOMA Messenger  :  3232\n",
      "Monkey  :  3060\n",
      "Down To Lunch  :  2535\n",
      "Flinch - Video Chat Staring Contest  :  2134\n",
      "Highrise - Your Avatar Community  :  2011\n",
      "LOVOO - Dating Chat  :  1985\n",
      "PlayStation®Messages  :  1918\n",
      "BOO! - Video chat camera with filters & stickers  :  1805\n",
      "Qzone  :  1649\n",
      "Chatous - Chat with new people  :  1609\n",
      "Kiwi - Q&A  :  1538\n",
      "GhostCodes - a discovery app for Snapchat  :  1313\n",
      "Jodel  :  1193\n",
      "FireChat  :  1037\n",
      "Google Duo - simple video calling  :  1033\n",
      "Fiesta by Tango - Chat & Meet New People  :  885\n",
      "Google Allo — smart messaging  :  862\n",
      "Peach — share vividly  :  727\n",
      "Hey! VINA - Where Women Meet New Friends  :  719\n",
      "Battlefield™ Companion  :  689\n",
      "All Devices for WhatsApp - Messenger for iPad  :  682\n",
      "Chat for Pokemon Go - GoChat  :  500\n",
      "IAmNaughty – Dating App to Meet New People Online  :  463\n",
      "Qzone HD  :  458\n",
      "Zenly - Locate your friends in realtime  :  427\n",
      "League of Legends Friends  :  420\n",
      "豆瓣  :  407\n",
      "Candid - Speak Your Mind Freely  :  398\n",
      "知乎  :  397\n",
      "Selfeo  :  366\n",
      "Fake-A-Location Free ™  :  354\n",
      "Popcorn Buzz - Free Group Calls  :  281\n",
      "Fam — Group video calling for iMessage  :  279\n",
      "QQ International  :  274\n",
      "Ameba  :  269\n",
      "SoundCloud Pulse: for creators  :  240\n",
      "Tantan  :  235\n",
      "Cougar Dating & Life Style App for Mature Women  :  213\n",
      "Rawr Messenger - Dab your chat  :  180\n",
      "WhenToPost: Best Time to Post Photos for Instagram  :  158\n",
      "Inke—Broadcast an amazing life  :  147\n",
      "Mustknow - anonymous video Q&A  :  53\n",
      "CTFxCmoji  :  39\n",
      "Lobi  :  36\n",
      "Chain: Collaborate On MyVideo Story/Group Video  :  35\n",
      "botman - Real time video chat  :  7\n",
      "BestieBox  :  0\n",
      "MATCH ON LINE chat  :  0\n",
      "niconico ch  :  0\n",
      "LINE BLOG  :  0\n",
      "bit-tube - Live Stream Video Chat  :  0\n"
     ]
    }
   ],
   "source": [
    "for i in ios_final:\n",
    "    if i[-5]=='Social Networking':\n",
    "        print(i[1],\" : \",i[5])"
   ]
  },
  {
   "cell_type": "markdown",
   "metadata": {},
   "source": [
    "* so i would recommened an app for education purpose which will focus on teaching to a particular age group of students which is totally free and gains money only by in app ads.This app should contain teaching via video with using grapics so that the student can understand the concept rather then by hearting the concepts"
   ]
  },
  {
   "cell_type": "markdown",
   "metadata": {},
   "source": [
    "# most popular apps in android :\n",
    "* Take a look at the android dataset we observe that we have a column for installs in the dataset. \n",
    "* this makes our work easier to find out the popular apps.\n",
    "* we will first use the frequency table for the category column of the android dataset and store it in a variable called genres_an\n",
    "* the we will loop through genres_an and find if genre_app is equal to genre\n",
    "* if so we will store the value of installs for that app in total_in variable and increase the length of the genre by one\n",
    "* find avreage installs for each genre and save it in avg_ins_android variable.\n",
    "* print the genre and its corresponding avg installs"
   ]
  },
  {
   "cell_type": "code",
   "execution_count": 20,
   "metadata": {
    "collapsed": false
   },
   "outputs": [
    {
     "name": "stdout",
     "output_type": "stream",
     "text": [
      "HEALTH_AND_FITNESS  :  4188821.9853479853\n",
      "ENTERTAINMENT  :  11640705.88235294\n",
      "LIFESTYLE  :  1437816.2687861272\n",
      "TRAVEL_AND_LOCAL  :  13984077.710144928\n",
      "HOUSE_AND_HOME  :  1331540.5616438356\n",
      "PRODUCTIVITY  :  16787331.344927534\n",
      "SHOPPING  :  7036877.311557789\n",
      "AUTO_AND_VEHICLES  :  647317.8170731707\n",
      "TOOLS  :  10801391.298666667\n",
      "BOOKS_AND_REFERENCE  :  8767811.894736841\n",
      "COMICS  :  817657.2727272727\n",
      "PHOTOGRAPHY  :  17840110.40229885\n",
      "PARENTING  :  542603.6206896552\n",
      "DATING  :  854028.8303030303\n",
      "FINANCE  :  1387692.475609756\n",
      "EDUCATION  :  1833495.145631068\n",
      "FOOD_AND_DRINK  :  1924897.7363636363\n",
      "GAME  :  15588015.603248259\n",
      "BUSINESS  :  1712290.1474201474\n",
      "BEAUTY  :  513151.88679245283\n",
      "FAMILY  :  3695641.8198090694\n",
      "NEWS_AND_MAGAZINES  :  9549178.467741935\n",
      "EVENTS  :  253542.22222222222\n",
      "VIDEO_PLAYERS  :  24727872.452830188\n",
      "MAPS_AND_NAVIGATION  :  4056941.7741935486\n",
      "LIBRARIES_AND_DEMO  :  638503.734939759\n",
      "SOCIAL  :  23253652.127118643\n",
      "PERSONALIZATION  :  5201482.6122448975\n",
      "MEDICAL  :  120550.61980830671\n",
      "SPORTS  :  3638640.1428571427\n",
      "ART_AND_DESIGN  :  1986335.0877192982\n",
      "COMMUNICATION  :  38456119.167247385\n",
      "WEATHER  :  5074486.197183099\n"
     ]
    }
   ],
   "source": [
    "genres_an=freq_table(android_final,1)\n",
    "for genre in genres_an:\n",
    "    total_in=0\n",
    "    len_genre=0\n",
    "    for i in android_final:\n",
    "        genre_app=i[1]\n",
    "        if genre_app==genre:\n",
    "            n_in=i[5]\n",
    "            n_in=n_in.replace('+','')\n",
    "            n_in=n_in.replace(',','')\n",
    "            total_in+=float(n_in)\n",
    "            len_genre+=1\n",
    "    avg_ins_android=(total_in/len_genre)\n",
    "    print(genre ,' : ',avg_ins_android)"
   ]
  },
  {
   "cell_type": "markdown",
   "metadata": {},
   "source": [
    "* if you take a look at each of the genres we can see that social category has one of the most intalls of all"
   ]
  },
  {
   "cell_type": "code",
   "execution_count": 21,
   "metadata": {
    "collapsed": false,
    "scrolled": false
   },
   "outputs": [
    {
     "name": "stdout",
     "output_type": "stream",
     "text": [
      "Facebook  :  1,000,000,000+\n",
      "Facebook Lite  :  500,000,000+\n",
      "Tumblr  :  100,000,000+\n",
      "Social network all in one 2018  :  100,000+\n",
      "Pinterest  :  100,000,000+\n",
      "TextNow - free text + calls  :  10,000,000+\n",
      "Google+  :  1,000,000,000+\n",
      "The Messenger App  :  1,000,000+\n",
      "Messenger Pro  :  1,000,000+\n",
      "Free Messages, Video, Chat,Text for Messenger Plus  :  1,000,000+\n",
      "Telegram X  :  5,000,000+\n",
      "The Video Messenger App  :  100,000+\n",
      "Jodel - The Hyperlocal App  :  1,000,000+\n",
      "Hide Something - Photo, Video  :  5,000,000+\n",
      "Love Sticker  :  1,000,000+\n",
      "Web Browser & Fast Explorer  :  5,000,000+\n",
      "LiveMe - Video chat, new friends, and make money  :  10,000,000+\n",
      "VidStatus app - Status Videos & Status Downloader  :  5,000,000+\n",
      "Love Images  :  1,000,000+\n",
      "Web Browser ( Fast & Secure Web Explorer)  :  500,000+\n",
      "SPARK - Live random video chat & meet new people  :  5,000,000+\n",
      "Golden telegram  :  50,000+\n",
      "Facebook Local  :  1,000,000+\n",
      "Meet – Talk to Strangers Using Random Video Chat  :  5,000,000+\n",
      "MobilePatrol Public Safety App  :  1,000,000+\n",
      "💘 WhatsLov: Smileys of love, stickers and GIF  :  1,000,000+\n",
      "HTC Social Plugin - Facebook  :  10,000,000+\n",
      "Quora  :  10,000,000+\n",
      "Kate Mobile for VK  :  10,000,000+\n",
      "Family GPS tracker KidControl + GPS by SMS Locator  :  1,000,000+\n",
      "Moment  :  1,000,000+\n",
      "Text Me: Text Free, Call Free, Second Phone Number  :  10,000,000+\n",
      "Text Free: WiFi Calling App  :  5,000,000+\n",
      "Badoo - Free Chat & Dating App  :  100,000,000+\n",
      "Text free - Free Text + Call  :  10,000,000+\n",
      "Tango - Live Video Broadcast  :  100,000,000+\n",
      "ooVoo Video Calls, Messaging & Stories  :  50,000,000+\n",
      "Whisper  :  5,000,000+\n",
      "Blogger  :  5,000,000+\n",
      "Bloglovin'  :  500,000+\n",
      "Blogaway for Android (Blogger)  :  100,000+\n",
      "Instagram  :  1,000,000,000+\n",
      "TwitCasting Live  :  1,000,000+\n",
      "Stream - Live Video Community  :  500,000+\n",
      "YouNow: Live Stream Video Chat  :  10,000,000+\n",
      "Mirrativ: Live Stream Any App  :  500,000+\n",
      "Snapchat  :  500,000,000+\n",
      "Banjo  :  1,000,000+\n",
      "We Heart It  :  10,000,000+\n",
      "MeetMe: Chat & Meet New People  :  50,000,000+\n",
      "Timehop  :  5,000,000+\n",
      "Frontback - Social Photos  :  1,000,000+\n",
      "LinkedIn  :  100,000,000+\n",
      "Path  :  10,000,000+\n",
      "SayHi Chat, Meet New People  :  10,000,000+\n",
      "Tapatalk - 100,000+ Forums  :  10,000,000+\n",
      "Couple - Relationship App  :  1,000,000+\n",
      "Nextdoor - Local neighborhood news & classifieds  :  5,000,000+\n",
      "LOVOO  :  10,000,000+\n",
      "Jaumo Dating, Flirt & Live Video  :  10,000,000+\n",
      "Patook - make platonic friends  :  100,000+\n",
      "Zello PTT Walkie Talkie  :  50,000,000+\n",
      "textPlus: Free Text & Calls  :  10,000,000+\n",
      "magicApp Calling & Messaging  :  10,000,000+\n",
      "Dating App, Flirt & Chat : W-Match  :  10,000,000+\n",
      "uCiC- Videos and Photos on demand  :  100,000+\n",
      "Meetup  :  5,000,000+\n",
      "POF Free Dating App  :  50,000,000+\n",
      "Tagged - Meet, Chat & Dating  :  10,000,000+\n",
      "SKOUT - Meet, Chat, Go Live  :  50,000,000+\n",
      "Mico- Stranger Chat Random video Chat, Live, Meet  :  10,000,000+\n",
      "Waplog - Free Chat, Dating App, Meet Singles  :  10,000,000+\n",
      "Tik Tok - including musical.ly  :  100,000,000+\n",
      "B-Messenger Video Chat  :  1,000,000+\n",
      "BIGO LIVE - Live Stream  :  100,000,000+\n",
      "Greeting Cards & Wishes  :  500,000+\n",
      "Share G - Images Sharing - Wallpapers App  :  10,000+\n",
      "H letter images  :  1,000+\n",
      "Instachat 😜  :  5,000,000+\n",
      "Fame Boom for Real Followers, Likes  :  5,000,000+\n",
      "FollowMeter for Instagram  :  1,000,000+\n",
      "Mali J  :  10,000+\n",
      "KDRAMA Amino for K-Drama Fans  :  100,000+\n",
      "KPOP Amino for K-Pop Entertainment  :  100,000+\n",
      "EXO-L Amino for EXO Fans  :  50,000+\n",
      "Verdad o Reto  :  500,000+\n",
      "pixiv  :  1,000,000+\n",
      "Join R, Community Engagement  :  1,000+\n",
      "U LIVE – Video Chat & Stream  :  1,000,000+\n",
      "See U - Random video chat, video chat  :  100,000+\n",
      "What U See  :  100,000+\n",
      "U-Report  :  10,000+\n",
      "Meet U - Get Friends for Snapchat, Kik & Instagram  :  100,000+\n",
      "VMate Lite - Funny Short Videos Social Network  :  1,000,000+\n",
      "V Bucks ProTips New  :  1,000+\n",
      "i-share AF/KLM (AFKL ishare)  :  100+\n",
      "Eternal Light AG  :  100+\n",
      "Message AI - Write Better Messages (Free)  :  100+\n",
      "Jamaa Amino for Animal Jam  :  10,000+\n",
      "Legend - Animate Text in Video  :  10,000,000+\n",
      "GUYZ - Gay Chat & Gay Dating  :  1,000,000+\n",
      "eChallan Andhra Pradesh (AP)  :  1,000+\n",
      "Snaappy – 3D fun AR core communication platform  :  1,000,000+\n",
      "Undertale AU Amino  :  50,000+\n",
      "Au Pair  :  10,000+\n",
      "Media Sosial TNI AU  :  1,000+\n",
      "BA 3 Banjarmasin  :  10+\n",
      "iCard BD Plus  :  500+\n",
      "Movement BE  :  100+\n",
      "YAY - TBH  :  100,000+\n",
      "Find My Friends  :  10,000,000+\n",
      "BG LINKED (BGLINKED)  :  1,000+\n",
      "Zdravei.BG  :  1,000+\n",
      "BGKontakti London BG Kontakti  :  500+\n",
      "BGKontakti Bayern BG Kontakti  :  1,000+\n",
      "BGKontakti Vienna BG Kontakti  :  1,000+\n",
      "Discípulos em BH  :  100+\n",
      "BH Connect  :  1+\n",
      "Gayvox - Gay Lesbian Bi Dating  :  500,000+\n",
      "Grindr - Gay chat  :  10,000,000+\n",
      "Lesbian Chat & Dating - SPICY  :  1,000,000+\n",
      "Alumni BJ  :  100+\n",
      "VK  :  100,000,000+\n",
      "BK Traffic Control cum Chart  :  10,000+\n",
      "Daily Murli Saar Widget  :  10,000+\n",
      "Myjob@BM  :  100+\n",
      "bm-Events  :  10+\n",
      "BOO! - Next Generation Messenger  :  1,000,000+\n",
      "Wishbone - Compare Anything  :  1,000,000+\n",
      "BR Chat Bot  :  1,000+\n",
      "Br Browser  :  500+\n",
      "Dr B R Ambedkar (Jai Bhim)  :  100,000+\n",
      "Dr. B.R.Ambedkar  :  100,000+\n",
      "Black Social  :  1,000+\n",
      "BT Communicator  :  10,000+\n",
      "BT Dating -Find your match, help cupid, be social  :  50,000+\n",
      "Fiesta by Tango - Find, Meet and Make New Friends  :  1,000,000+\n",
      "Evasion.bz  :  100+\n",
      "CB Heroes  :  5+\n",
      "CG Districts  :  1,000+\n",
      "Digi-TV.ch  :  10,000+\n",
      "Students.ch  :  1,000+\n",
      "CJ Gospel Hour  :  100+\n",
      "Pekalongan CJ  :  0+\n",
      "Hashtags For Likes.co  :  50,000+\n",
      "CP Dialer  :  50,000+\n",
      "C.P. CERVANTES (TOBARRA)  :  5+\n",
      "Cyprus Police  :  10,000+\n",
      "Rande.cz  :  50,000+\n",
      "signály.cz  :  1,000+\n",
      "DB Event App  :  5,000+\n",
      "DC Comics Amino  :  1,000+\n",
      "DF BugMeNot  :  500+\n",
      "Noticias DF  :  1,000+\n",
      "Periscope - Live Video  :  10,000,000+\n",
      "Daddyhunt: Gay Dating  :  500,000+\n",
      "Free phone calls, free texting SMS on free number  :  10,000,000+\n",
      "Phone Tracker : Family Locator  :  10,000,000+\n",
      "HOLLA Live: Meet New People via Random Video Chat  :  5,000,000+\n",
      "Dating.dk  :  100,000+\n",
      "DK Murali  :  500+\n",
      "GirlTalk.dk  :  100+\n",
      "+Download 4 Instagram Twitter  :  1,000,000+\n",
      "DM Me - Chat  :  10,000+\n",
      "DM for IG 😘 - Image & Video Saver for Instagram  :  5,000+\n",
      "Auto DM for Twitter 🔥  :  1,000+\n",
      "DM Storage (for twitter)  :  100+\n",
      "Fake Chat (Direct Message)  :  500,000+\n",
      "Otto DM  :  10+\n",
      "DN Blog  :  10+\n",
      "DP and Status for WhatsApp 2018  :  100,000+\n",
      "Dp For Whatsapp  :  5,000+\n",
      "Profile Pictures and DP for Whatsapp  :  5,000+\n",
      "Dp for Facebook  :  5,000+\n",
      "Best DP and Status  :  10,000+\n",
      "Instant DP Downloader for Instagram  :  5,000+\n",
      "DP Display Pictures Life Quotes Motivational GM  :  5,000+\n",
      "Qeek for Instagram - Zoom profile insta DP  :  500,000+\n",
      "DV Statistics  :  100+\n",
      "DW Streaming  :  1,000+\n",
      "News Dz  :  10+\n",
      "quran-DZ  :  10+\n",
      "TN e Sevai TN EB Bill Patta Citta EC Birth All Hub  :  5,000+\n",
      "TNEB Bill Online Payment (Tamil)  :  5,000+\n",
      "UP EB Bill Payment & Details  :  50+\n",
      "TN EC Online New  :  1,000+\n",
      "TN Patta /Chitta /EC New  :  100+\n",
      "EG Way Life  :  50+\n",
      "Equestria Amino for MLP  :  50,000+\n",
      "Ek Maratha  :  10,000+\n",
      "Hum Ek Hain 2.02  :  10+\n",
      "Sabka Malik Ek Sai  :  1,000+\n",
      "EO RAIPUR  :  10+\n",
      "Anime et Manga Amino en Français  :  50,000+\n",
      "Hornet - Gay Social Network  :  5,000,000+\n",
      "Amino: Communities and Chats  :  10,000,000+\n",
      "European Solidarity Corps  :  1,000+\n",
      "Reisedealz.eu  :  10+\n",
      "Eddsworld Amino  :  10,000+\n",
      "Rejoin Your Ex  :  100+\n",
      "Amleen Ey  :  1+\n",
      "Coupe Adhémar EY 2017  :  50+\n",
      "EZ Video Download for Facebook  :  1,000,000+\n",
      "Messages, Text and Video Chat for Messenger  :  10,000,000+\n",
      "All Social Networks  :  1,000,000+\n",
      "Messenger Messenger  :  10,000,000+\n",
      "Facebook Creator  :  1,000,000+\n",
      "Swift for Facebook Lite  :  500,000+\n",
      "Friendly for Facebook  :  1,000,000+\n",
      "Faster for Facebook Lite  :  1,000,000+\n",
      "Puffin for Facebook  :  500,000+\n",
      "Profile Tracker - Who Viewed My Facebook Profile  :  500,000+\n",
      "Pink Color for Facebook  :  500,000+\n",
      "Messenger  :  10,000,000+\n",
      "Stickers for Imo, fb, whatsapp  :  10,000+\n",
      "Who Viewed My Facebook Profile - Stalkers Visitors  :  5,000,000+\n",
      "Downloader plus for FB  :  500+\n",
      "MB Notifications for FB (Free)  :  100,000+\n",
      "Phoenix - Facebook & Messenger  :  100,000+\n",
      "Faster Social for Facebook  :  100,000+\n",
      "Check Your Visitors on FB ?  :  5,000+\n",
      "Stickers for Facebook  :  1,000,000+\n",
      "Lite Messenger for Facebook Lite  :  10,000+\n",
      "Mini for Facebook lite  :  10,000+\n",
      "FB Advanced Search  :  50+\n",
      "funny Image Comments for FB  :  5,000+\n",
      "Unlimited Group Links - Whatsapp, FB, Telegram  :  10,000+\n",
      "FCB Connect - FC Barcelona  :  50,000+\n",
      "Frases Cristianas de Esperanza y Fe  :  100+\n",
      "FutureNet your social app  :  100,000+\n",
      "Alarm.fo – choose your info  :  1,000+\n",
      "FunForMobile Ringtones & Chat  :  5,000,000+\n",
      "Chat For Strangers - Video Chat  :  100,000+\n",
      "Fr Daoud Lamei  :  100,000+\n",
      "Naruto & Boruto FR  :  100+\n",
      "Frim: get new friends on local chat rooms  :  5,000,000+\n"
     ]
    }
   ],
   "source": [
    "for i in android_final:\n",
    "    if i[1]=='SOCIAL':\n",
    "        print(i[0],' : ',i[5])"
   ]
  },
  {
   "cell_type": "markdown",
   "metadata": {},
   "source": [
    "* but when we dig further into the genre we will find that most of the installs on this category are of facebook,instagram,messenger,tiktok,google+, etc. these 5 to 10 apps take up most of the installs in this category\n",
    "* same with communication,photography,tools, etc."
   ]
  },
  {
   "cell_type": "code",
   "execution_count": 22,
   "metadata": {
    "collapsed": false
   },
   "outputs": [
    {
     "name": "stdout",
     "output_type": "stream",
     "text": [
      "3084582.5201793723\n"
     ]
    }
   ],
   "source": [
    "under_100_m=[]\n",
    "for i in android_final:\n",
    "    if i[1]=='SOCIAL':\n",
    "        n_in=i[5]\n",
    "        n_in=n_in.replace(',','')\n",
    "        n_in=n_in.replace('+','')\n",
    "        n_in=float(n_in)\n",
    "        if n_in<100000000:\n",
    "            under_100_m.append(n_in)\n",
    "print(sum(under_100_m)/len(under_100_m))"
   ]
  },
  {
   "cell_type": "markdown",
   "metadata": {},
   "source": [
    "* when we remove the 100 millon installs apps the average install of the category falls drastically\n",
    "* by this we understand that the only few giants like facebook,google+,instagram,tiktok,etc. take up most of the installs in google play"
   ]
  },
  {
   "cell_type": "code",
   "execution_count": 23,
   "metadata": {
    "collapsed": false,
    "scrolled": false
   },
   "outputs": [
    {
     "name": "stdout",
     "output_type": "stream",
     "text": [
      "English Communication - Learn English for Chinese (Learn English for Chinese)  :  100,000+\n",
      "Khan Academy  :  5,000,000+\n",
      "Ai La Trieu Phu - ALTP Free  :  100,000+\n",
      "Learn Spanish - Español  :  1,000,000+\n",
      "Speed Reading  :  500,000+\n",
      "English for beginners  :  1,000,000+\n",
      "Mermaids  :  5,000,000+\n",
      "Learn Japanese, Korean, Chinese Offline & Free  :  1,000,000+\n",
      "Kids Mode  :  500,000+\n",
      "Dinosaurs Coloring Pages  :  500,000+\n",
      "Cars Coloring Pages  :  1,000,000+\n",
      "Math Tricks  :  10,000,000+\n",
      "Learn English Words Free  :  5,000,000+\n",
      "Japanese / English one-shop search dictionary - Free Japanese - English - Japanese dictionary application  :  50,000+\n",
      "English speaking texts  :  1,000,000+\n",
      "Thai Handwriting  :  1,000,000+\n",
      "THAI DICT 2018  :  1,000,000+\n",
      "Kanji test · Han search Kanji training (free version)  :  1,000,000+\n",
      "Flippy Campus - Buy & sell on campus at a discount  :  500,000+\n",
      "Free intellectual training game application |  :  1,000,000+\n",
      "ABC Preschool Free  :  5,000,000+\n",
      "PINKFONG Baby Shark  :  1,000,000+\n",
      "English words application mikan  :  500,000+\n",
      "Learn English for beginners  :  500,000+\n",
      "Listen and learn English in seven days  :  100,000+\n",
      "Lumosity: #1 Brain Games & Cognitive Training App  :  10,000,000+\n",
      "Learn English from Persian: Persian to English  :  100,000+\n",
      "English with Lingualeo  :  5,000,000+\n",
      "Quizlet: Learn Languages & Vocab with Flashcards  :  10,000,000+\n",
      "Udemy - Online Courses  :  1,000,000+\n",
      "Coursera: Online courses  :  5,000,000+\n",
      "edX - Online Courses by Harvard, MIT & more  :  1,000,000+\n",
      "Elevate - Brain Training Games  :  5,000,000+\n",
      "NeuroNation - Focus and Brain Training  :  5,000,000+\n",
      "Memorado - Brain Games  :  1,000,000+\n",
      "Lynda - Online Training Videos  :  1,000,000+\n",
      "Brilliant  :  1,000,000+\n",
      "CppDroid - C/C++ IDE  :  1,000,000+\n",
      "Quiz&Learn Python  :  10,000+\n",
      "C++ Tutorials  :  50,000+\n",
      "C++ Programming  :  1,000,000+\n",
      "C Programming  :  1,000,000+\n",
      "Udacity - Lifelong Learning  :  1,000,000+\n",
      "Learn C++  :  1,000,000+\n",
      "Learn programming  :  1,000,000+\n",
      "Learn JavaScript  :  1,000,000+\n",
      "Learn Java  :  1,000,000+\n",
      "Learn HTML  :  1,000,000+\n",
      "Programming Hub, Learn to code  :  1,000,000+\n",
      "Learn SQL  :  1,000,000+\n",
      "Ready4 SAT (Prep4 SAT)  :  100,000+\n",
      "Socratic - Math Answers & Homework Help  :  1,000,000+\n",
      "Ready4 GMAT (Prep4 GMAT)  :  100,000+\n",
      "Pocket GMAT Math  :  10,000+\n",
      "GMAT Question Bank  :  10,000+\n",
      "GRE Tutor  :  50,000+\n",
      "GRE Flashcards  :  500,000+\n",
      "play2prep: ACT, SAT prep  :  100,000+\n",
      "SAT Test  :  100,000+\n",
      "GMAT Math Flashcards  :  100,000+\n",
      "Pocket SAT Math  :  10,000+\n",
      "TOEFL Prep & Practice from Magoosh  :  100,000+\n",
      "GRE Prep & Practice by Magoosh  :  100,000+\n",
      "GRE® Flashcards by Kaplan  :  50,000+\n",
      "SAT Vocabulary  :  50,000+\n",
      "Magoosh GMAT Prep & Practice  :  100,000+\n",
      "SAT Flashcards: Prep & Vocabulary  :  100,000+\n",
      "LinkedIn Learning: Online Courses to Learn Skills  :  1,000,000+\n",
      "Learn English with Phrases  :  1,000,000+\n",
      "Free english course  :  5,000,000+\n",
      "Learn 50 languages  :  5,000,000+\n",
      "Rosetta Stone: Learn to Speak & Read New Languages  :  5,000,000+\n",
      "Babbel – Learn Spanish  :  1,000,000+\n",
      "Mango Languages: Lovable Language Courses  :  500,000+\n",
      "Learn English with Aco  :  1,000,000+\n",
      "Learn to Speak English  :  1,000,000+\n",
      "Learn English with Wlingua  :  10,000,000+\n",
      "My Class Schedule: Timetable  :  1,000,000+\n",
      "Study Checker  :  500,000+\n",
      "My Study Life - School Planner  :  1,000,000+\n",
      "HomeWork  :  1,000,000+\n",
      "Next Gen Science Standards  :  50,000+\n",
      "myHomework Student Planner  :  1,000,000+\n",
      "Teacher's Gradebook - Additio  :  100,000+\n",
      "Common Core  :  100,000+\n",
      "Homework Planner  :  100,000+\n",
      "TeachersPayTeachers  :  100,000+\n",
      "Socrative Teacher  :  100,000+\n",
      "Training schedule - AllUniver  :  10,000+\n",
      "Remind: School Communication  :  10,000,000+\n",
      "Google Classroom  :  10,000,000+\n",
      "ClassDojo  :  10,000,000+\n",
      "Lerni. Learn languages.  :  500,000+\n",
      "Learn languages, grammar & vocabulary with Memrise  :  10,000,000+\n",
      "Innovative: Learn 34 Languages  :  500,000+\n",
      "Chegg Study - Homework Help  :  1,000,000+\n",
      "Canvas Student  :  1,000,000+\n",
      "Timetable  :  1,000,000+\n",
      "EasyBib: Citation Generator  :  100,000+\n",
      "HelloTalk — Chat, Speak & Learn Foreign Languages  :  5,000,000+\n",
      "SoloLearn: Learn to Code for Free  :  1,000,000+\n",
      "Kids Learn Languages by Mondly  :  100,000+\n",
      "Blinkist - Nonfiction Books  :  1,000,000+\n"
     ]
    }
   ],
   "source": [
    "for i in android_final:\n",
    "    if i[1]=='EDUCATION':\n",
    "        print(i[0],' : ',i[5])\n",
    "        "
   ]
  },
  {
   "cell_type": "markdown",
   "metadata": {},
   "source": [
    "* education category has many apps in it but  It seems there's still a small number of extremely popular apps that skew the average:         "
   ]
  },
  {
   "cell_type": "code",
   "execution_count": 24,
   "metadata": {
    "collapsed": false
   },
   "outputs": [
    {
     "name": "stdout",
     "output_type": "stream",
     "text": [
      "Math Tricks : 10,000,000+\n",
      "Lumosity: #1 Brain Games & Cognitive Training App : 10,000,000+\n",
      "Quizlet: Learn Languages & Vocab with Flashcards : 10,000,000+\n",
      "Learn English with Wlingua : 10,000,000+\n",
      "Remind: School Communication : 10,000,000+\n",
      "Google Classroom : 10,000,000+\n",
      "ClassDojo : 10,000,000+\n",
      "Learn languages, grammar & vocabulary with Memrise : 10,000,000+\n"
     ]
    }
   ],
   "source": [
    "for i in android_final:\n",
    "    if i[1]=='EDUCATION' and (i[5] =='10,000,000+'):\n",
    "        print(i[0], ':', i[5])"
   ]
  },
  {
   "cell_type": "markdown",
   "metadata": {},
   "source": [
    "* we can clearly see that maximum downloads is just 10 millon and that too we just have 8 apps in that range.\n",
    "* so clearly there is no app which is popular in this category\n",
    "* I would recommend to come with an app which is effectively teaches the students through videos, online books and use graphics to make the students understand the concepts in a easier and effective way."
   ]
  },
  {
   "cell_type": "code",
   "execution_count": 25,
   "metadata": {
    "collapsed": false
   },
   "outputs": [
    {
     "name": "stdout",
     "output_type": "stream",
     "text": [
      "English Communication - Learn English for Chinese (Learn English for Chinese) : 100,000+\n",
      "Ai La Trieu Phu - ALTP Free : 100,000+\n",
      "Learn Spanish - Español : 1,000,000+\n",
      "Speed Reading : 500,000+\n",
      "English for beginners : 1,000,000+\n",
      "Learn Japanese, Korean, Chinese Offline & Free : 1,000,000+\n",
      "Kids Mode : 500,000+\n",
      "Dinosaurs Coloring Pages : 500,000+\n",
      "Cars Coloring Pages : 1,000,000+\n",
      "English speaking texts : 1,000,000+\n",
      "Thai Handwriting : 1,000,000+\n",
      "THAI DICT 2018 : 1,000,000+\n",
      "Kanji test · Han search Kanji training (free version) : 1,000,000+\n",
      "Flippy Campus - Buy & sell on campus at a discount : 500,000+\n",
      "Free intellectual training game application | : 1,000,000+\n",
      "PINKFONG Baby Shark : 1,000,000+\n",
      "English words application mikan : 500,000+\n",
      "Learn English for beginners : 500,000+\n",
      "Listen and learn English in seven days : 100,000+\n",
      "Learn English from Persian: Persian to English : 100,000+\n",
      "Udemy - Online Courses : 1,000,000+\n",
      "edX - Online Courses by Harvard, MIT & more : 1,000,000+\n",
      "Memorado - Brain Games : 1,000,000+\n",
      "Lynda - Online Training Videos : 1,000,000+\n",
      "Brilliant : 1,000,000+\n",
      "CppDroid - C/C++ IDE : 1,000,000+\n",
      "C++ Programming : 1,000,000+\n",
      "C Programming : 1,000,000+\n",
      "Udacity - Lifelong Learning : 1,000,000+\n",
      "Learn C++ : 1,000,000+\n",
      "Learn programming : 1,000,000+\n",
      "Learn JavaScript : 1,000,000+\n",
      "Learn Java : 1,000,000+\n",
      "Learn HTML : 1,000,000+\n",
      "Programming Hub, Learn to code : 1,000,000+\n",
      "Learn SQL : 1,000,000+\n",
      "Ready4 SAT (Prep4 SAT) : 100,000+\n",
      "Socratic - Math Answers & Homework Help : 1,000,000+\n",
      "Ready4 GMAT (Prep4 GMAT) : 100,000+\n",
      "GRE Flashcards : 500,000+\n",
      "play2prep: ACT, SAT prep : 100,000+\n",
      "SAT Test : 100,000+\n",
      "GMAT Math Flashcards : 100,000+\n",
      "TOEFL Prep & Practice from Magoosh : 100,000+\n",
      "GRE Prep & Practice by Magoosh : 100,000+\n",
      "Magoosh GMAT Prep & Practice : 100,000+\n",
      "SAT Flashcards: Prep & Vocabulary : 100,000+\n",
      "LinkedIn Learning: Online Courses to Learn Skills : 1,000,000+\n",
      "Learn English with Phrases : 1,000,000+\n",
      "Babbel – Learn Spanish : 1,000,000+\n",
      "Mango Languages: Lovable Language Courses : 500,000+\n",
      "Learn English with Aco : 1,000,000+\n",
      "Learn to Speak English : 1,000,000+\n",
      "My Class Schedule: Timetable : 1,000,000+\n",
      "Study Checker : 500,000+\n",
      "My Study Life - School Planner : 1,000,000+\n",
      "HomeWork : 1,000,000+\n",
      "myHomework Student Planner : 1,000,000+\n",
      "Teacher's Gradebook - Additio : 100,000+\n",
      "Common Core : 100,000+\n",
      "Homework Planner : 100,000+\n",
      "TeachersPayTeachers : 100,000+\n",
      "Socrative Teacher : 100,000+\n",
      "Lerni. Learn languages. : 500,000+\n",
      "Innovative: Learn 34 Languages : 500,000+\n",
      "Chegg Study - Homework Help : 1,000,000+\n",
      "Canvas Student : 1,000,000+\n",
      "Timetable : 1,000,000+\n",
      "EasyBib: Citation Generator : 100,000+\n",
      "SoloLearn: Learn to Code for Free : 1,000,000+\n",
      "Kids Learn Languages by Mondly : 100,000+\n",
      "Blinkist - Nonfiction Books : 1,000,000+\n"
     ]
    }
   ],
   "source": [
    "for i in android_final:\n",
    "    if i[1]=='EDUCATION' and (i[5] =='1,000,000+'\n",
    "                             or i[5]=='500,000+'\n",
    "                             or i[5]=='100,000+'):\n",
    "        print(i[0], ':', i[5])"
   ]
  },
  {
   "cell_type": "markdown",
   "metadata": {},
   "source": [
    "* when we look at apps with 1 millon or less installs we find numerous apps and this shows that this category is develloping but because most of the apps in education are paid and still not up to the mark we find less numbre of installs for these.\n",
    "* so coming up with an educational app which is free of cost and approches teaching in an interesting and effective way will be a great idea and will be a profitable app for both app store and gooogple play and also work towards a good cause of helping students in their academics"
   ]
  },
  {
   "cell_type": "markdown",
   "metadata": {},
   "source": [
    "# Conclusions\n",
    "* In this project, we analyzed data about the App Store and Google Play mobile apps with the goal of recommending an app profile that can be profitable for both Google play and App store market.\n",
    "* **we concluded that an educational app could be profitable for google play and app store markets.The markets have a lot of educational apps but only a few of them are a bit popular. these app are not that succesful because they cost you money to teach after you download them. so coming up with an educational app which id free of cost and approches teaching in an intersting and effective way we will a great idea for both markets and also work towards a good cause of helping students in their academics** "
   ]
  }
 ],
 "metadata": {
  "kernelspec": {
   "display_name": "Python 3",
   "language": "python",
   "name": "python3"
  },
  "language_info": {
   "codemirror_mode": {
    "name": "ipython",
    "version": 3
   },
   "file_extension": ".py",
   "mimetype": "text/x-python",
   "name": "python",
   "nbconvert_exporter": "python",
   "pygments_lexer": "ipython3",
   "version": "3.4.3"
  }
 },
 "nbformat": 4,
 "nbformat_minor": 2
}
